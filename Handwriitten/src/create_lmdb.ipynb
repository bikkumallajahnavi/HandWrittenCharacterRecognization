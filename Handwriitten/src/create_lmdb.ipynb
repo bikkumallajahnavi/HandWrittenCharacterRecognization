{
 "cells": [
  {
   "cell_type": "code",
   "execution_count": null,
   "metadata": {},
   "outputs": [],
   "source": [
    "import argparse\n",
    "import pickle\n",
    "\n",
    "import cv2\n",
    "import lmdb\n",
    "from path import Path\n",
    "\n",
    "parser = argparse.ArgumentParser()\n",
    "parser.add_argument('--data_dir', type=Path, required=True)\n",
    "args = parser.parse_args()\n",
    "\n",
    "# 2GB is enough for IAM dataset\n",
    "assert not (args.data_dir / 'lmdb').exists()\n",
    "env = lmdb.open(str(args.data_dir / 'lmdb'), map_size=1024 * 1024 * 1024 * 2)\n",
    "\n",
    "# go over all png files\n",
    "fn_imgs = list((args.data_dir / 'img').walkfiles('*.png'))\n",
    "\n",
    "# and put the imgs into lmdb as pickled grayscale imgs\n",
    "with env.begin(write=True) as txn:\n",
    "    for i, fn_img in enumerate(fn_imgs):\n",
    "        print(i, len(fn_imgs))\n",
    "        img = cv2.imread(fn_img, cv2.IMREAD_GRAYSCALE)\n",
    "        basename = fn_img.basename()\n",
    "        txn.put(basename.encode(\"ascii\"), pickle.dumps(img))\n",
    "\n",
    "env.close()\n"
   ]
  }
 ],
 "metadata": {
  "kernelspec": {
   "display_name": "Python 3",
   "language": "python",
   "name": "python3"
  },
  "language_info": {
   "codemirror_mode": {
    "name": "ipython",
    "version": 3
   },
   "file_extension": ".py",
   "mimetype": "text/x-python",
   "name": "python",
   "nbconvert_exporter": "python",
   "pygments_lexer": "ipython3",
   "version": "3.8.3"
  }
 },
 "nbformat": 4,
 "nbformat_minor": 4
}
